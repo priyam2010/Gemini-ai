{
 "cells": [
  {
   "cell_type": "code",
   "execution_count": null,
   "id": "2a19d3a4",
   "metadata": {},
   "outputs": [],
   "source": [
    "!pip install langchain google-generativeai sqlalchemy\n",
    "from langchain.sql_database import SQLDatabase\n",
    "from langchain.chains import SQLDatabaseChain\n",
    "from langchain.llms import GooglePalm\n",
    "import google.generativeai as genai\n",
    "\n",
    "# Configure your Gemini API key (get it from https://aistudio.google.com/apikey)\n",
    "genai.configure(api_key=\"YOUR_GEMINI_API_KEY\")  # 🔸 replace this with your real key\n",
    "\n",
    "# Connect to SQLite DB\n",
    "db = SQLDatabase.from_uri(\"sqlite:///advision.db\")\n",
    "\n",
    "# Initialize Gemini model\n",
    "llm = GooglePalm(model=\"models/text-bison-001\")\n",
    "\n",
    "# Create SQL QA Chain\n",
    "db_chain = SQLDatabaseChain.from_llm(llm, db, verbose=True)\n",
    "\n",
    "\n",
    "questions = [\n",
    "    \"Show top 3 campaigns by conversion rate among 18–25 year olds last month.\",\n",
    "    \"Which platform had the highest number of impressions?\",\n",
    "    \"Total spend by Apple.\",\n",
    "    \"List influencers with engagement above 5.\"\n",
    "]\n",
    "\n",
    "for q in questions:\n",
    "    print(f\"\\n📝 Question: {q}\")\n",
    "    print(\"🤖 Answer:\", db_chain.run(q))\n"
   ]
  }
 ],
 "metadata": {
  "language_info": {
   "name": "python"
  }
 },
 "nbformat": 4,
 "nbformat_minor": 5
}
